{
 "cells": [
  {
   "cell_type": "code",
   "execution_count": null,
   "id": "aac52806-811f-4013-9ce1-aaeca5c9e36d",
   "metadata": {},
   "outputs": [],
   "source": []
  }
 ],
 "metadata": {
  "kernelspec": {
   "display_name": "",
   "name": ""
  },
  "language_info": {
   "name": ""
  }
 },
 "nbformat": 4,
 "nbformat_minor": 5
}
